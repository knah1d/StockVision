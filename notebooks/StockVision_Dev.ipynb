{
 "cells": [
  {
   "cell_type": "code",
   "execution_count": 6,
   "id": "f1e926b7",
   "metadata": {},
   "outputs": [
    {
     "name": "stdout",
     "output_type": "stream",
     "text": [
      "✅ securities.csv saved at ../data/processed/securities.csv\n",
      "✅ all_data.csv saved at ../data/processed/all_data.csv\n"
     ]
    }
   ],
   "source": [
    "import os\n",
    "import json\n",
    "import pandas as pd\n",
    "\n",
    "archive_dir = '../data/raw/archive'\n",
    "output_prices_file = '../data/processed/all_data.csv'\n",
    "output_sec_file = '../data/processed/securities.csv'\n",
    "\n",
    "# Load securities.json\n",
    "securities_path = os.path.join(archive_dir, 'securities.json')\n",
    "with open(securities_path, 'r') as f:\n",
    "    securities_data = json.load(f)\n",
    "securities_df = pd.DataFrame(securities_data)\n",
    "securities_df.to_csv(output_sec_file, index=False)\n",
    "print(f\"✅ securities.csv saved at {output_sec_file}\")\n",
    "\n",
    "# Load all other JSON files (excluding securities.json)\n",
    "all_price_data = []\n",
    "\n",
    "for filename in sorted(os.listdir(archive_dir)):\n",
    "    if filename.endswith('.json') and filename != 'securities.json':\n",
    "        file_path = os.path.join(archive_dir, filename)\n",
    "        with open(file_path, 'r') as f:\n",
    "            try:\n",
    "                data = json.load(f)\n",
    "                all_price_data.extend(data)\n",
    "            except json.JSONDecodeError as e:\n",
    "                print(f\"⚠️ JSON decode error in {filename}: {e}\")\n",
    "\n",
    "# Create price DataFrame\n",
    "prices_df = pd.DataFrame(all_price_data)\n",
    "prices_df['date'] = pd.to_datetime(prices_df['date'])\n",
    "prices_df.sort_values('date', inplace=True)\n",
    "prices_df.to_csv(output_prices_file, index=False)\n",
    "print(f\"✅ all_data.csv saved at {output_prices_file}\")"
   ]
  },
  {
   "cell_type": "code",
   "execution_count": null,
   "id": "769561f1",
   "metadata": {},
   "outputs": [],
   "source": []
  }
 ],
 "metadata": {
  "kernelspec": {
   "display_name": "venv",
   "language": "python",
   "name": "python3"
  },
  "language_info": {
   "codemirror_mode": {
    "name": "ipython",
    "version": 3
   },
   "file_extension": ".py",
   "mimetype": "text/x-python",
   "name": "python",
   "nbconvert_exporter": "python",
   "pygments_lexer": "ipython3",
   "version": "3.12.3"
  }
 },
 "nbformat": 4,
 "nbformat_minor": 5
}
